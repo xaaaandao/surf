{
 "cells": [
  {
   "cell_type": "code",
   "execution_count": null,
   "outputs": [],
   "source": [
    "!pip install opencv-python==3.4.2.17\n",
    "!pip install opencv-contrib-python==3.4.2.17"
   ],
   "metadata": {
    "collapsed": false
   }
  },
  {
   "cell_type": "code",
   "execution_count": 2,
   "outputs": [
    {
     "data": {
      "text/plain": "'3.4.2'"
     },
     "execution_count": 2,
     "metadata": {},
     "output_type": "execute_result"
    }
   ],
   "source": [
    "import cv2 as cv\n",
    "import cv2.xfeatures2d\n",
    "import matplotlib.pyplot as plt\n",
    "import numpy as np\n",
    "import scipy.stats\n",
    "\n",
    "cv2.__version__"
   ],
   "metadata": {
    "collapsed": false
   }
  },
  {
   "cell_type": "code",
   "execution_count": 3,
   "outputs": [
    {
     "name": "stdout",
     "output_type": "stream",
     "text": [
      "surf descriptor size: 64\n"
     ]
    }
   ],
   "source": [
    "surf = cv2.xfeatures2d.SURF_create(1000)\n",
    "print('surf descriptor size: %d' % surf.descriptorSize())"
   ],
   "metadata": {
    "collapsed": false
   }
  },
  {
   "cell_type": "code",
   "execution_count": 22,
   "outputs": [
    {
     "data": {
      "text/plain": "<matplotlib.image.AxesImage at 0x7fafee249470>"
     },
     "execution_count": 22,
     "metadata": {},
     "output_type": "execute_result"
    },
    {
     "data": {
      "text/plain": "<Figure size 5760x576 with 1 Axes>",
      "image/png": "[encoded data removed]"
     },
     "metadata": {
      "needs_background": "light"
     },
     "output_type": "display_data"
    }
   ],
   "source": [
    "img = cv.imread(str(\"NY00559020_01.jpeg\"), cv.IMREAD_GRAYSCALE)\n",
    "plt.figure(figsize=(80,8))\n",
    "plt.imshow(img, cmap=\"gray\")"
   ],
   "metadata": {
    "collapsed": false
   }
  },
  {
   "cell_type": "code",
   "execution_count": 13,
   "outputs": [],
   "source": [
    "kp, des = surf.detectAndCompute(img, None)\n",
    "# print('des.shape: %s' % str(des.shape))\n",
    "\n",
    "v_hist = des.shape[0]\n",
    "# print('v_hist: %d' % v_hist)\n",
    "\n",
    "vetor_aux = np.mean(des, axis=0)\n",
    "mean = vetor_aux[0:vetor_aux.shape[0]]\n",
    "# print(mean, mean.shape, mean.dtype, type(mean))\n",
    "\n",
    "vetor_aux = np.std(des, axis=0)\n",
    "desv_pad = vetor_aux[0:vetor_aux.shape[0]]\n",
    "# print(desv_pad, desv_pad.shape, desv_pad.dtype, type(desv_pad))\n",
    "\n",
    "vetor_aux = scipy.stats.kurtosis(des, axis=0)\n",
    "kurtosis = vetor_aux[0:vetor_aux.shape[0]]\n",
    "# print(kurtosis, kurtosis.shape, kurtosis.dtype, type(kurtosis))\n",
    "\n",
    "vetor_aux = scipy.stats.skew(des, axis=0)\n",
    "skew = vetor_aux[0:vetor_aux.shape[0]]\n",
    "# print(skew, skew.shape, skew.dtype, type(skew))\n",
    "\n",
    "# 47 eh a label\n",
    "features = np.concatenate((np.array([v_hist], dtype=int), mean, desv_pad, kurtosis, skew, np.array([47], dtype=int)))"
   ],
   "metadata": {
    "collapsed": false
   }
  },
  {
   "cell_type": "code",
   "execution_count": 19,
   "outputs": [
    {
     "data": {
      "text/plain": "   0         1         2         3         4         5         6         7    \\\n0  1.0  0.000197 -0.000354  0.000289  0.000354  0.000056 -0.000611  0.000611   \n\n        8    9    ...  248  249  250  251  252  253  254  255  256   257  \n0  0.000611  0.0  ...  0.0  0.0  0.0  0.0  0.0  0.0  0.0  0.0  0.0  47.0  \n\n[1 rows x 258 columns]",
      "text/html": "<div>\n<style scoped>\n    .dataframe tbody tr th:only-of-type {\n        vertical-align: middle;\n    }\n\n    .dataframe tbody tr th {\n        vertical-align: top;\n    }\n\n    .dataframe thead th {\n        text-align: right;\n    }\n</style>\n<table border=\"1\" class=\"dataframe\">\n  <thead>\n    <tr style=\"text-align: right;\">\n      <th></th>\n      <th>0</th>\n      <th>1</th>\n      <th>2</th>\n      <th>3</th>\n      <th>4</th>\n      <th>5</th>\n      <th>6</th>\n      <th>7</th>\n      <th>8</th>\n      <th>9</th>\n      <th>...</th>\n      <th>248</th>\n      <th>249</th>\n      <th>250</th>\n      <th>251</th>\n      <th>252</th>\n      <th>253</th>\n      <th>254</th>\n      <th>255</th>\n      <th>256</th>\n      <th>257</th>\n    </tr>\n  </thead>\n  <tbody>\n    <tr>\n      <th>0</th>\n      <td>1.0</td>\n      <td>0.000197</td>\n      <td>-0.000354</td>\n      <td>0.000289</td>\n      <td>0.000354</td>\n      <td>0.000056</td>\n      <td>-0.000611</td>\n      <td>0.000611</td>\n      <td>0.000611</td>\n      <td>0.0</td>\n      <td>...</td>\n      <td>0.0</td>\n      <td>0.0</td>\n      <td>0.0</td>\n      <td>0.0</td>\n      <td>0.0</td>\n      <td>0.0</td>\n      <td>0.0</td>\n      <td>0.0</td>\n      <td>0.0</td>\n      <td>47.0</td>\n    </tr>\n  </tbody>\n</table>\n<p>1 rows × 258 columns</p>\n</div>"
     },
     "execution_count": 19,
     "metadata": {},
     "output_type": "execute_result"
    }
   ],
   "source": [
    "import pandas as pd\n",
    "pd.DataFrame(np.array(features)).transpose()"
   ],
   "metadata": {
    "collapsed": false
   }
  }
 ],
 "metadata": {
  "kernelspec": {
   "display_name": "Python 3",
   "language": "python",
   "name": "python3"
  },
  "language_info": {
   "codemirror_mode": {
    "name": "ipython",
    "version": 2
   },
   "file_extension": ".py",
   "mimetype": "text/x-python",
   "name": "python",
   "nbconvert_exporter": "python",
   "pygments_lexer": "ipython2",
   "version": "2.7.6"
  }
 },
 "nbformat": 4,
 "nbformat_minor": 0
}
